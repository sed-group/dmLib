{
 "cells": [
  {
   "cell_type": "markdown",
   "metadata": {},
   "source": [
    "# Identification of design margins in the design of a strut"
   ]
  },
  {
   "cell_type": "markdown",
   "metadata": {},
   "source": [
    "## Defining the components of the margin analysis network\n",
    "\n",
    "The components of the margin analysis network are:\n",
    "\n",
    "* Input parameters\n",
    "    * Design parameters\n",
    "    * Fixed parameters\n",
    "    * Input specifications\n",
    "* Intermediate parameters\n",
    "* Decision nodes\n",
    "* Output parameters\n",
    "    * Performance parameters\n",
    "    * Target thresholds\n",
    "    * Decided values"
   ]
  },
  {
   "cell_type": "markdown",
   "metadata": {},
   "source": [
    "### Design parameters\n",
    "\n",
    "<figure>\n",
    "  <center><p><img src=\"../images/strut_example/strut_overview.png\"\n",
    "    width=\"950pt\" align=\"middle\">\n",
    "  <figcaption>Fig.1 Schematic of strut design example</figcaption>\n",
    "</figure>\n",
    "\n",
    "This example shows how to evaluate the design margins of a strut which is a part of the turbine rear frame of an aeroengine. In this example, we consider three design parameters of the strut the lean angle $\\theta$, the vane width $w$, and the vane height $h$"
   ]
  },
  {
   "cell_type": "code",
   "execution_count": 1,
   "metadata": {},
   "outputs": [],
   "source": [
    "from mvm import DesignParam\n",
    "\n",
    "# define design parameters\n",
    "d1 = DesignParam(100.0, 'D1', universe=(70.0, 130.0), variable_type='FLOAT', description='vane length', symbol='w')\n",
    "d2 = DesignParam(15.0, 'D2', universe=(5.0, 20.0), variable_type='FLOAT', description='vane height', symbol='h')\n",
    "d3 = DesignParam(10.0, 'D3', universe=(0.0, 30.0), variable_type='FLOAT', description='lean angle', symbol='theta')\n",
    "design_params = [d1,d2,d3]"
   ]
  },
  {
   "cell_type": "markdown",
   "metadata": {},
   "source": [
    "### Fixed parameters\n",
    "\n",
    "We also specify some constants for this example, such as elastic modulus $E$, coefficient of thermal expansion $\\alpha$, hub and shroud radii, $r_1$ and $r_2$, respectively, and ambient temperature $T_\\mathrm{sink}$"
   ]
  },
  {
   "cell_type": "code",
   "execution_count": 2,
   "metadata": {},
   "outputs": [],
   "source": [
    "from mvm import FixedParam\n",
    "\n",
    "# define fixed parameters\n",
    "i1 = FixedParam(7.17E-06, 'I1', description='Coefficient of thermal expansion', symbol='alpha')\n",
    "i2 = FixedParam(156.3E3, 'I2', description='Youngs modulus', symbol='E')\n",
    "i3 = FixedParam(346.5, 'I3', description='Radius of the hub', symbol='r1')\n",
    "i4 = FixedParam(536.5, 'I4', description='Radius of the shroud', symbol='r2')\n",
    "i5 = FixedParam(25.0, 'I6', description='ambient temperature', symbol='T_sink')\n",
    "\n",
    "fixed_params = [i1, i2, i3, i4, i5]"
   ]
  },
  {
   "cell_type": "markdown",
   "metadata": {},
   "source": [
    "### Input specifications\n",
    "\n",
    "The strut experiences a compressive force $F$ and bending moment $M$ as a result of non-uniform expansion of the turbine rear frame during operation. This is attributed to two temperatures $T_1$ and $T_2$ that occur at the shroud and hub surfaces, respectively as shown below:\n",
    "\n",
    "<figure>\n",
    "  <center><p><img src=\"../images/strut_example/simplified_strut_model.png\"\n",
    "    width=\"250pt\" align=\"middle\">\n",
    "  <figcaption>Fig.2 Temperature loads</figcaption>\n",
    "</figure>"
   ]
  },
  {
   "cell_type": "markdown",
   "metadata": {},
   "source": [
    "The temperatures $T_1$ and $T_2$ are defined as input specifications. The argument ``inc`` specifies the expected direction of change of these temperatures during operation and will be used later on to compute the ability of a design margin to absorb change of said temperatures\n",
    "\n",
    "* $T_1$ is expected to decrease by 1\\% of the nominal value\n",
    "* $T_2$ is expected to increase by 1\\% of the nominal value\n",
    "\n",
    "If the absolute change is to be specified, then change the argument ``inc_type`` to ``'abs'``"
   ]
  },
  {
   "cell_type": "code",
   "execution_count": 3,
   "metadata": {},
   "outputs": [],
   "source": [
    "from mvm import InputSpec\n",
    "\n",
    "# define input specifications\n",
    "s1 = InputSpec(450, 'S1', universe=[325, 550], variable_type='FLOAT', description='nacelle temperature',\n",
    "               symbol='T1', inc=-1e-0, inc_type='rel')\n",
    "s2 = InputSpec(425, 'S2', universe=[325, 550], variable_type='FLOAT', description='gas surface temperature',\n",
    "               symbol='T2', inc=+1e-0, inc_type='rel')\n",
    "input_specs = [s1, s2]"
   ]
  },
  {
   "cell_type": "markdown",
   "metadata": {},
   "source": [
    "### Performance parameters\n",
    "\n",
    "we then calculate weight and cost as:\n",
    "\n",
    "$$\n",
    "W = \\rho whL\\\\\n",
    "\\mathrm{cost} = c\\rho whL,\n",
    "$$\n",
    "\n",
    "where $c$ is the raw material cost per unit weight. and $L$ is the length of the strut given by $L = -r_1\\cos{\\theta} + \\sqrt{{r_2}^2 - {r_1}^2\\sin^2{\\theta}}$\n",
    "\n",
    "$W$ and $\\mathrm{cost}$ are *performance parameters*. Their calculation is given by a *behaviour* model ``b1``"
   ]
  },
  {
   "cell_type": "code",
   "execution_count": 4,
   "metadata": {},
   "outputs": [],
   "source": [
    "from mvm import Behaviour\n",
    "import numpy as np\n",
    "\n",
    "# this is the weight and cost model\n",
    "class B1(Behaviour):\n",
    "    def __call__(self, rho, w, h, theta, r1, r2, cost_coeff):\n",
    "        L = -r1 * np.cos(np.deg2rad(theta)) + np.sqrt(r2 ** 2 - (r1 * np.sin(np.deg2rad(theta))) ** 2)\n",
    "        weight = rho * w * h * L\n",
    "        cost = weight * cost_coeff\n",
    "        self.performance = [weight, cost]\n",
    "\n",
    "b1 = B1(n_i=0, n_p=2, n_dv=0, n_tt=0, key='B1')"
   ]
  },
  {
   "cell_type": "markdown",
   "metadata": {},
   "source": [
    "We specify whether increasing this parameter is beneficial or detrimental to the design's performance using the ``direction`` argument"
   ]
  },
  {
   "cell_type": "code",
   "execution_count": 5,
   "metadata": {},
   "outputs": [],
   "source": [
    "from mvm import Performance\n",
    "# Define performances\n",
    "p1 = Performance('P1', direction='less_is_better')\n",
    "p2 = Performance('P2', direction='less_is_better')\n",
    "performances = [p1, p2]"
   ]
  },
  {
   "cell_type": "markdown",
   "metadata": {},
   "source": [
    "### Target thresholds\n",
    "\n",
    "The strut must support the forces shown perviously on Figure 2:\n",
    "\n",
    "* A compressive stress $\\sigma_a$ due to the force $F$\n",
    "* A bending stress $\\sigma_m$ due to the bending moment $M$\n",
    "\n",
    "$$\n",
    "\\sigma_a = \\dfrac{E\\alpha}{L}\\left(T_2r_2 - T_1r_1 - T_\\text{sink}(r_2-r_1)\\right)\\cos{\\theta}\\\\\n",
    "\\sigma_m =\\dfrac{3}{2}\\dfrac{Eh\\alpha}{L^2}\\left(T_2r_2 - T_1r_1 - T_\\text{sink}(r_2-r_1)\\right)\\sin{\\theta}\n",
    "$$\n",
    "\n",
    "The maximum stress value becomes the *target threshold*.\n",
    "\n",
    "\n",
    "$$\n",
    "\\sigma_\\mathrm{max} = \\max{\\left(\\sigma_a,\\sigma_m\\right)}\n",
    "$$\n",
    "\n",
    "This is defined by *behaviour* model ``b2``"
   ]
  },
  {
   "cell_type": "code",
   "execution_count": 6,
   "metadata": {},
   "outputs": [],
   "source": [
    "# this is the stress model\n",
    "class B2(Behaviour):\n",
    "    def __call__(self, T1, T2, h, theta, alpha, E, r1, r2, T_sink):\n",
    "        L = -r1 * np.cos(np.deg2rad(theta)) + np.sqrt(r2 ** 2 - (r1 * np.sin(np.deg2rad(theta))) ** 2)\n",
    "        sigma_a = (E * alpha) * ((T2 * r2) - (T1 * r1) - (T_sink * (r2 - r1))) * np.cos(np.deg2rad(theta)) / L\n",
    "        sigma_m = (3 / 2) * ((E * h) / (L ** 2)) * (\n",
    "                alpha * ((T2 * r2) - (T1 * r1) - (T_sink * (r2 - r1))) * np.sin(np.deg2rad(theta)))\n",
    "        self.threshold = max([sigma_a, sigma_m])\n",
    "\n",
    "b2 = B2(n_i=0, n_p=0, n_dv=0, n_tt=1, key='B2')"
   ]
  },
  {
   "cell_type": "markdown",
   "metadata": {},
   "source": [
    "### Decided values (from Decision nodes)\n",
    "\n",
    "After calculating the target thresholds (what the design needs to do) we have to make decisions regarding certain 'off-the-shelf' components. The decided value in this case is given by the yield stress of the selected material. We define a decision node using the ``Design`` class and a corresponding ``Behaviour`` model to translate the selected material to a decided value. The material model also supplies two additional intermediate parameters that are required by the cost model in ``b1``. They are the density $\\rho$ and the cost density $c$"
   ]
  },
  {
   "cell_type": "code",
   "execution_count": 7,
   "metadata": {},
   "outputs": [],
   "source": [
    "from mvm import Decision\n",
    "\n",
    "class B3(Behaviour):\n",
    "    def __call__(self, material):\n",
    "        material_dict = {\n",
    "            'dummy'   : {\n",
    "                'sigma_y' : 92, # MPa\n",
    "                'rho' : 11.95e-06, # kg/mm3\n",
    "                'cost' : 0.1 # USD/kg\n",
    "            },\n",
    "            'Steel'   : {\n",
    "                'sigma_y' : 250, # MPa\n",
    "                'rho' : 10.34e-06, # kg/mm3\n",
    "                'cost' : 0.09478261, # USD/kg\n",
    "                },\n",
    "            'Inconel'  : {\n",
    "                'sigma_y' : 460,  # MPa\n",
    "                'rho' : 8.19e-06,  # kg/mm3\n",
    "                'cost' : 0.46,  # USD/kg\n",
    "                },\n",
    "            'Titanium'  : {\n",
    "                'sigma_y' : 828, # MPa\n",
    "                'rho' : 4.43e-06, # kg/mm3\n",
    "                'cost' : 1.10 # USD/kg\n",
    "                },\n",
    "        }\n",
    "        chosen_mat = material_dict[material]\n",
    "\n",
    "        self.intermediate = [chosen_mat['rho'], chosen_mat['cost']]\n",
    "        self.decided_value = chosen_mat['sigma_y']\n",
    "\n",
    "        return self.decided_value\n",
    "\n",
    "b3 = B3(n_i=2, n_p=0, n_dv=1, n_tt=0, key='B3')\n",
    "\n",
    "# Define decision nodes and a model to convert to decided values\n",
    "decision_1 = Decision(universe=['Steel', 'Inconel', 'Titanium'], variable_type='ENUM', key='decision_1',\n",
    "                      direction='must_not_exceed', decided_value_model=b3, description='The type of material')\n",
    "\n",
    "decisions = [decision_1, ]"
   ]
  },
  {
   "cell_type": "markdown",
   "metadata": {},
   "source": [
    "We concatenate all behaviour models into a list"
   ]
  },
  {
   "cell_type": "code",
   "execution_count": 8,
   "metadata": {},
   "outputs": [],
   "source": [
    "behaviours = [b1,b2,b3]"
   ]
  },
  {
   "cell_type": "markdown",
   "metadata": {},
   "source": [
    "### Excess margins\n",
    "\n",
    "The design must support the following loads\n",
    "\n",
    "* A maximum stress **less than** the yield stress $\\sigma_y$\n",
    "\n",
    "We have one design margin given by:\n",
    "\n",
    "$$\n",
    "e_1 = \\sigma_y - \\sigma_\\mathrm{max}\\\\\n",
    "$$\n",
    "\n",
    "It is of the ``must_not_exceed`` type"
   ]
  },
  {
   "cell_type": "code",
   "execution_count": 9,
   "metadata": {},
   "outputs": [],
   "source": [
    "from mvm import MarginNode\n",
    "\n",
    "# Define margin nodes\n",
    "e1 = MarginNode('E1', direction='must_not_exceed')\n",
    "margin_nodes = [e1,]"
   ]
  },
  {
   "cell_type": "markdown",
   "metadata": {},
   "source": [
    "## Calculation of the value of excess margins in the strut\n",
    "\n",
    "### Constructing the margin analysis network\n",
    "\n",
    "We combine all the perviously defined parameters and behaviour models inside a ``MarginNetwork`` object. The ``forward`` method represents a single calculation pass of the margin analysis network\n",
    "\n",
    "The ``randomize`` method is optional and is used to randomly seed any probabilistic input specifications or behaviour models (see example in next section). The ``MAN`` object below mimics the MAN shown in the figure below:\n",
    "\n",
    "<figure>\n",
    "  <center><p><img src=\"../images/strut_example/MAN.png\"\n",
    "    width=\"950pt\" align=\"middle\">\n",
    "  <figcaption>Fig.3 Margin analysis network of the strut example</figcaption>\n",
    "</figure>"
   ]
  },
  {
   "cell_type": "code",
   "execution_count": 10,
   "metadata": {},
   "outputs": [],
   "source": [
    "from mvm import MarginNetwork\n",
    "\n",
    "# Define the MAN\n",
    "class MAN(MarginNetwork):\n",
    "\n",
    "    def randomize(self):\n",
    "        pass\n",
    "\n",
    "    def forward(self, num_threads=1, recalculate_decisions=False, allocate_margin=False, strategy=['min_excess',], outputs=['dv',]):\n",
    "        # retrieve MAN components\n",
    "        w = self.design_params[0].value  # w\n",
    "        h = self.design_params[1].value  # h\n",
    "        theta = self.design_params[2].value  # theta\n",
    "\n",
    "        T1 = self.input_specs[0].value  # T1 (could be stochastic)\n",
    "        T2 = self.input_specs[1].value  # T2 (could be stochastic)\n",
    "\n",
    "        alpha = self.fixed_params[0].value  # alpha\n",
    "        E = self.fixed_params[1].value  # E\n",
    "        r1 = self.fixed_params[2].value  # r1\n",
    "        r2 = self.fixed_params[3].value  # r2\n",
    "        T_sink = self.fixed_params[4].value  # T_sink\n",
    "\n",
    "        b1 = self.behaviours[0]  # calculates weight and cost\n",
    "        b2 = self.behaviours[1]  # calculates maximum of axial and bending stresses\n",
    "        b3 = self.behaviours[2]  # calculates material properties\n",
    "\n",
    "        decision_1 = self.decisions[0]  # select a material based on maximum bending or axial stress\n",
    "\n",
    "        e1 = self.margin_nodes[0]  # margin against axial or bending failure (sigma_max,sigma_y)\n",
    "\n",
    "        p1 = self.performances[0]  # weight\n",
    "        p2 = self.performances[1]  # cost\n",
    "\n",
    "        # Execute behaviour models\n",
    "\n",
    "        # T1, T2, h, theta, alpha, E, r1, r2, T_sink\n",
    "        b2(T1, T2, h, theta, alpha, E, r1, r2, T_sink)\n",
    "        sigma_max = b2.threshold # the applied load as the target threshold\n",
    "\n",
    "        # Execute decision node and translation model\n",
    "        decision_1(sigma_max, recalculate_decisions, allocate_margin, strategy[0], num_threads, outputs[0])\n",
    "        sigma_prime = decision_1.output_value # this either the target threshold (sigma_max) or the decided value (sigma_y)\n",
    "        sigma_y = decision_1.decided_value # the yield stress of the chosen material\n",
    "\n",
    "        # invert decided value: to get rho, and cost_coeff\n",
    "        b3.inv_call(sigma_prime) \n",
    "        rho = b3.intermediate[0]\n",
    "        cost_coeff = b3.intermediate[1]\n",
    "\n",
    "        # Compute excesses\n",
    "        e1(sigma_max, sigma_y)\n",
    "\n",
    "        # Compute performances\n",
    "        # rho, w, h, theta, r1, r2, cost_coeff\n",
    "        b1(rho, w, h, theta, r1, r2, cost_coeff)\n",
    "        p1(b1.performance[0])\n",
    "        p2(b1.performance[1])\n",
    "\n",
    "\n",
    "man = MAN(design_params, input_specs, fixed_params,\n",
    "          behaviours, decisions, margin_nodes, performances, 'MAN_1')"
   ]
  },
  {
   "cell_type": "markdown",
   "metadata": {},
   "source": [
    "### Calculating the impact of excess margin on performance\n",
    "\n",
    "To calculate the level of overdesign w.r.t margin node $m$ and performance parameter $j$ given by\n",
    "\n",
    "$$\n",
    "\\text{impact}_{mj} = \\dfrac{p_j - p^\\text{threshold}_{mj}}{p^\\text{threshold}_{mj}}\n",
    "$$\n",
    "\n",
    "we need to calculate the threshold performance $p^\\text{threshold}_{mj}$, i.e., the weight of a hypothetical design where margin node $e_m = 0$, To do so, we construct a surrogate model associated with each behaviour model that is connected to a decision node to allow interpolation of this hypothetical design. In this example it is ``b3`` associated with ``decision_1``.\n",
    "\n",
    "This allows the MAN's performance parameters $\\mathbf{p}$ to be expressed as functions in terms of the margin values $\\mathbf{e}$ and input specifications $\\mathbf{s}$\n",
    "\n",
    "$$\n",
    "\\hat{\\mathbf{p}} = f(\\mathbf{e},\\mathbf{s})\n",
    "$$\n",
    "\n",
    "we substitute $e_m = 0$ while holding all the other components at their nominal values."
   ]
  },
  {
   "cell_type": "code",
   "execution_count": 11,
   "metadata": {},
   "outputs": [
    {
     "name": "stdout",
     "output_type": "stream",
     "text": [
      "Warning: multiple x input features have the same value (at least same row twice).\n",
      "___________________________________________________________________________\n",
      "   \n",
      "                                    LS\n",
      "___________________________________________________________________________\n",
      "   \n",
      " Problem size\n",
      "   \n",
      "      # training points.        : 50\n",
      "   \n",
      "___________________________________________________________________________\n",
      "   \n",
      " Training\n",
      "   \n",
      "   Training ...\n",
      "   Training - done. Time (sec):  0.0020039\n"
     ]
    }
   ],
   "source": [
    "# train material surrogate\n",
    "variable_dict = {\n",
    "    'material' : {'type' : 'ENUM', 'limits' : decision_1.universe},\n",
    "}\n",
    "b3.train_surrogate(variable_dict,n_samples=50,sm_type='KRG')\n",
    "b3.train_inverse(sm_type='LS')"
   ]
  },
  {
   "cell_type": "markdown",
   "metadata": {},
   "source": [
    "We now calculate the impact using ``mvmlib`` using the Kriging surrogate model\n",
    "\n",
    "$$\n",
    "\\text{impact}_{mj} = \\dfrac{p_j - \\hat{p}^\\text{threshold}_{mj}}{\\hat{p}^\\text{threshold}_{mj}}\n",
    "$$"
   ]
  },
  {
   "cell_type": "code",
   "execution_count": 12,
   "metadata": {},
   "outputs": [
    {
     "data": {
      "text/plain": [
       "array([[-0.08317661,  0.26427392]])"
      ]
     },
     "execution_count": 12,
     "metadata": {},
     "output_type": "execute_result"
    }
   ],
   "source": [
    "man.reset()\n",
    "man.init_decisions()\n",
    "man.allocate_margins()\n",
    "man.forward()\n",
    "\n",
    "man.compute_impact()\n",
    "man.impact_matrix.value"
   ]
  },
  {
   "cell_type": "markdown",
   "metadata": {},
   "source": [
    "* The margin node (against yielding) has a positive impact on cost (i.e., its elimination will increase raw material cost). \n",
    "* However, the margin node (against yielding) has a negative on weight (i.e., its elimination will reduce weight). "
   ]
  },
  {
   "cell_type": "markdown",
   "metadata": {},
   "source": [
    "### Calculation of change absorption capability\n",
    "\n",
    "We now calculate the ability of the design to absorb deviation in the input specifications from their nominal values. We incrementally increase or decrease each specification $s_i$ until one of the margin nodes is equal to 0. The value of the specification at this point is called $s^\\text{max}_i$. The maximum allowable deterioration in the input specification is give by\n",
    "\n",
    "$$\n",
    "\\text{deterioration}_i = \\dfrac{s^\\text{max}_i - s_i}{s_i}\n",
    "$$"
   ]
  },
  {
   "cell_type": "code",
   "execution_count": 13,
   "metadata": {},
   "outputs": [
    {
     "data": {
      "text/plain": [
       "array([414.  , 403.75])"
      ]
     },
     "execution_count": 13,
     "metadata": {},
     "output_type": "execute_result"
    }
   ],
   "source": [
    "man.compute_absorption()\n",
    "man.spec_vector - man.deterioration_vector.value * man.spec_vector"
   ]
  },
  {
   "cell_type": "markdown",
   "metadata": {},
   "source": [
    "The value of the target thresholds when $s^\\text{max}_i$ is reached is $\\mathbf{t}^\\text{new}$. The value of the target thresholds at the nominal specifications $s_i$ is $\\mathbf{t}^\\text{nominal}$. The change absorption per unit deterioration is given by\n",
    "\n",
    "$$\n",
    "\\text{absorption}_{mi} = \\dfrac{t^\\text{new}_{mi} - t^\\text{nominal}_{mi}}{t^\\text{nominal}_{mi}\\times\\text{deterioration}_i}\n",
    "$$"
   ]
  },
  {
   "cell_type": "code",
   "execution_count": 14,
   "metadata": {},
   "outputs": [
    {
     "data": {
      "text/plain": [
       "array([[2.31557453, 3.38611472]])"
      ]
     },
     "execution_count": 14,
     "metadata": {},
     "output_type": "execute_result"
    }
   ],
   "source": [
    "man.absorption_matrix.value"
   ]
  },
  {
   "cell_type": "markdown",
   "metadata": {},
   "source": [
    "### Aggregation of impact and absorption\n",
    "\n",
    "We average the absorption and impact across all input specifications and performance parameters for each margin node (assuming equal weighting)\n",
    "\n",
    "$$\n",
    "{a}_m = \\dfrac{1}{n_\\text{specs}}\\sum_{i=0}^{n_\\text{specs}} \\text{absorption}_{mi} \\\\\n",
    "{i}_m = \\dfrac{1}{n_\\text{perf}}\\sum_{j=0}^{n_\\text{perf}} \\text{impact}_{mj} \\\\\n",
    "$$\n",
    "\n",
    "as follows:"
   ]
  },
  {
   "cell_type": "code",
   "execution_count": 15,
   "metadata": {},
   "outputs": [
    {
     "name": "stdout",
     "output_type": "stream",
     "text": [
      "2.850844625951363 0.09054865861919995\n"
     ]
    }
   ],
   "source": [
    "mean_absorption_node_1 = np.mean(man.absorption_matrix.value,axis=1)[0]\n",
    "mean_impact_node_1 = np.mean(man.impact_matrix.value,axis=1)[0]\n",
    "print(mean_absorption_node_1,mean_impact_node_1)"
   ]
  },
  {
   "cell_type": "markdown",
   "metadata": {},
   "source": [
    "Alternatively, we can aggregate across margin nodes instead\n",
    "\n",
    "$$\n",
    "{a}_i = \\dfrac{1}{n_\\text{nodes}}\\sum_{m=0}^{n_\\text{nodes}} \\text{absorption}_{mi} \\\\\n",
    "{i}_j = \\dfrac{1}{n_\\text{nodes}}\\sum_{m=0}^{n_\\text{nodes}} \\text{impact}_{mj} \\\\\n",
    "$$\n",
    "\n",
    "as follows:"
   ]
  },
  {
   "cell_type": "code",
   "execution_count": 16,
   "metadata": {},
   "outputs": [
    {
     "name": "stdout",
     "output_type": "stream",
     "text": [
      "2.3155745312790024 -0.08317660600149152\n",
      "3.3861147206237234 0.2642739232398914\n"
     ]
    }
   ],
   "source": [
    "mean_absorption_spec_1 = np.mean(man.absorption_matrix.value,axis=0)[0]\n",
    "mean_absorption_spec_2 = np.mean(man.absorption_matrix.value,axis=0)[1]\n",
    "\n",
    "mean_impact_perf_1 = np.mean(man.impact_matrix.value,axis=0)[0]\n",
    "mean_impact_perf_2 = np.mean(man.impact_matrix.value,axis=0)[1]\n",
    "print(mean_absorption_spec_1,mean_impact_perf_1)\n",
    "print(mean_absorption_spec_2,mean_impact_perf_2)"
   ]
  },
  {
   "cell_type": "markdown",
   "metadata": {},
   "source": [
    "## Effect of uncertainty in the nominal values of the input specifications $T_1$ and $T_2$"
   ]
  },
  {
   "cell_type": "markdown",
   "metadata": {},
   "source": [
    "This caused by unequal temperatures $T_1$, and $T_2$. Their exact values are not known and are expected to vary. We model this uncertainty using a joint probability density function:\n",
    "\n",
    "$$\n",
    "T_1,T_2 \\sim \\mathcal{N}(\\boldsymbol{\\mu},\\boldsymbol{\\Sigma})\n",
    "$$\n",
    "\n",
    "where $\\boldsymbol{\\mu}$ and $\\boldsymbol{\\Sigma}$ are the means and covariances, respectively of multivariate normal distribution. For more examples of different probability density functions supported by the library, see the examples [here](https://sed-group.github.io/mvmlib/notebooks/PDF_examples.html)"
   ]
  },
  {
   "cell_type": "code",
   "execution_count": 17,
   "metadata": {},
   "outputs": [
    {
     "data": {
      "image/png": "[encoded data removed]",
      "text/plain": [
       "<Figure size 576x216 with 1 Axes>"
      ]
     },
     "metadata": {
      "needs_background": "light"
     },
     "output_type": "display_data"
    }
   ],
   "source": [
    "from mvm import GaussianFunc, UniformFunc\n",
    "import numpy as np\n",
    "\n",
    "# T1,T2 distribution (Gaussian)\n",
    "center = np.array([450, 425])\n",
    "Sigma = np.array([\n",
    "    [50, 12.5],\n",
    "    [37.5, 50],\n",
    "])\n",
    "Requirement = GaussianFunc(center, Sigma, 'temp')\n",
    "\n",
    "Requirement.random(1000)\n",
    "Requirement.view(xlabel='Thermal loads $T_1,T_2 \\\n",
    "    \\sim \\mathcal{N}(\\mu,\\Sigma)$')\n",
    "Requirement.reset()"
   ]
  },
  {
   "cell_type": "markdown",
   "metadata": {},
   "source": [
    "We define the random input specifications as follows by supplying the arguments ``cov_index`` and ``distribution``"
   ]
  },
  {
   "cell_type": "code",
   "execution_count": 18,
   "metadata": {},
   "outputs": [],
   "source": [
    "from mvm import InputSpec\n",
    "\n",
    "# define input specifications\n",
    "s1 = InputSpec(center[0], 'S1', universe=[325, 550], variable_type='FLOAT', cov_index=0,\n",
    "               description='nacelle temperature', distribution=Requirement,\n",
    "               symbol='T1', inc=-1e-0, inc_type='rel')\n",
    "s2 = InputSpec(center[1], 'S2', universe=[325, 550], variable_type='FLOAT', cov_index=1,\n",
    "               description='gas surface temperature', distribution=Requirement,\n",
    "               symbol='T2', inc=+1e-0, inc_type='rel')\n",
    "input_specs = [s1, s2]"
   ]
  },
  {
   "cell_type": "markdown",
   "metadata": {},
   "source": [
    "Instead of redifining the MAN from scratch, we can subclass the original deterministic ``MAN`` and extend it by defining the ``randomize`` method to allow the MAN to draw random samples on input specs $T_1$ and $T_2$. The new stochastic version of the previous MAN is defined by ``StoMAN``"
   ]
  },
  {
   "cell_type": "code",
   "execution_count": 19,
   "metadata": {},
   "outputs": [],
   "source": [
    "# Define the stochastic MAN\n",
    "class StoMAN(MAN):\n",
    "\n",
    "    def randomize(self):\n",
    "        s1 = self.input_specs[0]\n",
    "        s2 = self.input_specs[1]\n",
    "        s1.random()\n",
    "        s2.random()\n",
    "\n",
    "sto_man = StoMAN(design_params,input_specs,fixed_params,\n",
    "    behaviours,decisions,margin_nodes,performances,'MAN_2')"
   ]
  },
  {
   "cell_type": "markdown",
   "metadata": {},
   "source": [
    "\n",
    "We use a Monte-Carlo simulation to obtain the distribution of impact and absorption in the design"
   ]
  },
  {
   "cell_type": "code",
   "execution_count": 20,
   "metadata": {},
   "outputs": [
    {
     "name": "stdout",
     "output_type": "stream",
     "text": [
      "Progress: 99%   \r"
     ]
    }
   ],
   "source": [
    "import sys\n",
    "\n",
    "# Perform Monte-Carlo simulation\n",
    "n_epochs = 1000\n",
    "for n in range(n_epochs):\n",
    "    \n",
    "    sys.stdout.write(\"Progress: %d%%   \\r\" %((n/n_epochs)* 100)) # display progress\n",
    "    sys.stdout.flush()\n",
    "\n",
    "    sto_man.randomize()\n",
    "    sto_man.init_decisions()\n",
    "    sto_man.allocate_margins()\n",
    "    sto_man.forward()\n",
    "    sto_man.compute_impact()\n",
    "    sto_man.compute_absorption()"
   ]
  },
  {
   "cell_type": "markdown",
   "metadata": {},
   "source": [
    "We view the distribution of excess"
   ]
  },
  {
   "cell_type": "code",
   "execution_count": 21,
   "metadata": {},
   "outputs": [
    {
     "data": {
      "image/png": "[encoded data removed]",
      "text/plain": [
       "<Figure size 576x216 with 1 Axes>"
      ]
     },
     "metadata": {
      "needs_background": "light"
     },
     "output_type": "display_data"
    }
   ],
   "source": [
    "# View distribution of excess\n",
    "sto_man.margin_nodes[0].excess.view()"
   ]
  },
  {
   "cell_type": "markdown",
   "metadata": {},
   "source": [
    "we view the distribution of impact on performance"
   ]
  },
  {
   "cell_type": "code",
   "execution_count": 22,
   "metadata": {},
   "outputs": [
    {
     "data": {
      "image/png": "[encoded data removed]",
      "text/plain": [
       "<Figure size 576x216 with 1 Axes>"
      ]
     },
     "metadata": {
      "needs_background": "light"
     },
     "output_type": "display_data"
    },
    {
     "data": {
      "image/png": "[encoded data removed]",
      "text/plain": [
       "<Figure size 576x216 with 1 Axes>"
      ]
     },
     "metadata": {
      "needs_background": "light"
     },
     "output_type": "display_data"
    }
   ],
   "source": [
    "# View distribution of Impact on Performance\n",
    "sto_man.impact_matrix.view(0,0)\n",
    "sto_man.impact_matrix.view(0,1)"
   ]
  },
  {
   "cell_type": "markdown",
   "metadata": {},
   "source": [
    "We view the distribution of change absorption capability of margin node 1"
   ]
  },
  {
   "cell_type": "code",
   "execution_count": 23,
   "metadata": {},
   "outputs": [
    {
     "data": {
      "image/png": "[encoded data removed]",
      "text/plain": [
       "<Figure size 576x216 with 1 Axes>"
      ]
     },
     "metadata": {
      "needs_background": "light"
     },
     "output_type": "display_data"
    },
    {
     "data": {
      "image/png": "[encoded data removed]",
      "text/plain": [
       "<Figure size 576x216 with 1 Axes>"
      ]
     },
     "metadata": {
      "needs_background": "light"
     },
     "output_type": "display_data"
    }
   ],
   "source": [
    "sto_man.absorption_matrix.view(0,0)\n",
    "sto_man.absorption_matrix.view(0,1)"
   ]
  },
  {
   "cell_type": "markdown",
   "metadata": {},
   "source": [
    "Finally, we view the margin value plot"
   ]
  },
  {
   "cell_type": "code",
   "execution_count": 24,
   "metadata": {},
   "outputs": [
    {
     "data": {
      "image/png": "[encoded data removed]",
      "text/plain": [
       "<Figure size 504x576 with 1 Axes>"
      ]
     },
     "metadata": {
      "needs_background": "light"
     },
     "output_type": "display_data"
    },
    {
     "data": {
      "image/png": "[encoded data removed]",
      "text/plain": [
       "<Figure size 504x576 with 1 Axes>"
      ]
     },
     "metadata": {
      "needs_background": "light"
     },
     "output_type": "display_data"
    },
    {
     "data": {
      "text/plain": [
       "0.006975229345006109"
      ]
     },
     "execution_count": 24,
     "metadata": {},
     "output_type": "execute_result"
    }
   ],
   "source": [
    "# display the margin value plot\n",
    "sto_man.compute_mvp('scatter')\n",
    "sto_man.compute_mvp('density')"
   ]
  },
  {
   "cell_type": "markdown",
   "metadata": {},
   "source": [
    "## The effect of design parameters on change absorption and impact on performance\n",
    "\n",
    "Let us look at an alternative design given by different values of $w$, $h$, and $\\theta$"
   ]
  },
  {
   "cell_type": "code",
   "execution_count": 25,
   "metadata": {},
   "outputs": [
    {
     "name": "stdout",
     "output_type": "stream",
     "text": [
      "Progress: 99%   \r"
     ]
    },
    {
     "data": {
      "image/png": "[encoded data removed]",
      "text/plain": [
       "<Figure size 504x576 with 1 Axes>"
      ]
     },
     "metadata": {
      "needs_background": "light"
     },
     "output_type": "display_data"
    }
   ],
   "source": [
    "from mvm import Design\n",
    "import matplotlib.pyplot as plt\n",
    "\n",
    "# Effect of alternative designs\n",
    "n_designs = 100\n",
    "n_epochs = 10\n",
    "lb = np.array(man.universe_d)[:, 0]\n",
    "ub = np.array(man.universe_d)[:, 1]\n",
    "design_doe = Design(lb, ub, n_designs, 'LHS')\n",
    "\n",
    "# create empty figure\n",
    "fig, ax = plt.subplots(figsize=(7, 8))\n",
    "ax.set_xlabel('Impact on performance')\n",
    "ax.set_ylabel('Change absoption capability')\n",
    "\n",
    "X = np.empty((1,len(man.margin_nodes)))\n",
    "Y = np.empty((1,len(man.margin_nodes)))\n",
    "D = np.empty((1,len(man.design_params)))\n",
    "\n",
    "for d,design in enumerate(design_doe.unscale()):\n",
    "    sto_man.nominal_design_vector = design\n",
    "    sto_man.reset()\n",
    "    sto_man.reset_outputs()\n",
    "\n",
    "    # Perform Monte-Carlo simulation\n",
    "    for n in range(n_epochs):\n",
    "        \n",
    "        sys.stdout.write(\"Progress: %d%%   \\r\" % ((d * n_epochs + n) / (n_designs * n_epochs) * 100))\n",
    "        sys.stdout.flush()\n",
    "\n",
    "        sto_man.randomize()\n",
    "        sto_man.init_decisions()\n",
    "        sto_man.allocate_margins()\n",
    "        sto_man.forward()\n",
    "        sto_man.compute_impact()\n",
    "        sto_man.compute_absorption()\n",
    "    \n",
    "    # Extract x and y\n",
    "    x = np.mean(sto_man.impact_matrix.values,axis=(1,2)).ravel() # average along performance parameters (assumes equal weighting)\n",
    "    y = np.mean(sto_man.absorption_matrix.values,axis=(1,2)).ravel() # average along input specs (assumes equal weighting)\n",
    "\n",
    "    if not all(np.isnan(y)):\n",
    "        X = np.vstack((X,x))\n",
    "        Y = np.vstack((Y,y))\n",
    "        D = np.vstack((D,design))\n",
    "\n",
    "    # plot the results\n",
    "    color = np.random.random((1,3))\n",
    "    ax.scatter(x,y,c=color)\n",
    "\n",
    "plt.show()"
   ]
  },
  {
   "cell_type": "markdown",
   "metadata": {},
   "source": [
    "Now we calculate the distance to the neutral line to rank different designs"
   ]
  },
  {
   "cell_type": "code",
   "execution_count": 26,
   "metadata": {},
   "outputs": [
    {
     "data": {
      "image/png": "[encoded data removed]",
      "text/plain": [
       "<Figure size 504x576 with 1 Axes>"
      ]
     },
     "metadata": {
      "needs_background": "light"
     },
     "output_type": "display_data"
    },
    {
     "name": "stdout",
     "output_type": "stream",
     "text": [
      "---------------------------------\n",
      "The best design:\n",
      "w = 123.166\n",
      "h = 17.147\n",
      "theta = 1.103\n",
      "---------------------------------\n"
     ]
    }
   ],
   "source": [
    "from mvm import nearest\n",
    "\n",
    "# Calculate distance metric\n",
    "p1 = np.array([X.min(),Y.min()])\n",
    "p2 = np.array([X.max(),Y.max()])\n",
    "p1 = p1 - 0.1*abs(p2 - p1)\n",
    "p2 = p2 + 0.1*abs(p2 - p1)\n",
    "\n",
    "distances = np.empty(0)\n",
    "for i,(x,y) in enumerate(zip(X,Y)):\n",
    "\n",
    "    dist = 0\n",
    "    for node in range(len(x)):\n",
    "        s = np.array([x[node],y[node]])\n",
    "        pn,d = nearest(p1,p2,s)\n",
    "        dist += d\n",
    "\n",
    "    distances = np.append(distances,dist)\n",
    "\n",
    "# create empty figure\n",
    "fig, ax = plt.subplots(figsize=(7, 8))\n",
    "ax.set_xlabel('Overall distance from the neutral line')\n",
    "ax.set_ylabel('Frequency')\n",
    "ax.hist(distances,bins=len(distances))\n",
    "\n",
    "plt.show()\n",
    "\n",
    "best_i = np.argmax(distances)\n",
    "best_design = D[best_i,:]\n",
    "\n",
    "print('---------------------------------')\n",
    "result = 'The best design:\\n'\n",
    "for value,d_object in zip(best_design,sto_man.design_params):\n",
    "    result += d_object.symbol + ' = ' + '%.3f'%value + '\\n'\n",
    "\n",
    "result += '---------------------------------'\n",
    "print(result)\n"
   ]
  },
  {
   "cell_type": "markdown",
   "metadata": {},
   "source": [
    "Let us visualize the distance calculation for three different designs"
   ]
  },
  {
   "cell_type": "code",
   "execution_count": 27,
   "metadata": {},
   "outputs": [
    {
     "data": {
      "image/png": "[encoded data removed]",
      "text/plain": [
       "<Figure size 504x576 with 1 Axes>"
      ]
     },
     "metadata": {
      "needs_background": "light"
     },
     "output_type": "display_data"
    }
   ],
   "source": [
    "\n",
    "# display distances only for three designs\n",
    "X_plot = X[0:3,:]\n",
    "Y_plot = Y[0:3,:]\n",
    "\n",
    "# create empty figure\n",
    "colors = ['#FF0000','#27BE1E','#0000FF']\n",
    "fig, ax = plt.subplots(figsize=(7, 8))\n",
    "ax.set_xlabel('Impact on performance')\n",
    "ax.set_ylabel('Change absoption capability')\n",
    "ax.set_xlim(p1[0],p2[0])\n",
    "ax.set_ylim(p1[1],p2[1])\n",
    "\n",
    "p = ax.plot([0, 1], [0, 1], transform=ax.transAxes, color='k',linestyle=(5,(10,5)))\n",
    "\n",
    "distances = np.empty(0)\n",
    "for i,(x,y) in enumerate(zip(X_plot,Y_plot)):\n",
    "\n",
    "    ax.scatter(x,y,c=colors[i])\n",
    "\n",
    "    dist = 0\n",
    "    for node in range(len(x)):\n",
    "        s = np.array([x[node],y[node]])\n",
    "        pn,d = nearest(p1,p2,s)\n",
    "        dist += d\n",
    "\n",
    "        x_d = [s[0],pn[0]]\n",
    "        y_d = [s[1],pn[1]]\n",
    "        ax.plot(x_d,y_d,marker='.',linestyle='--',color=colors[i])\n",
    "\n",
    "    distances = np.append(distances,dist)\n",
    "\n",
    "plt.show()"
   ]
  }
 ],
 "metadata": {
  "kernelspec": {
   "display_name": ".env",
   "language": "python",
   "name": "python3"
  },
  "language_info": {
   "codemirror_mode": {
    "name": "ipython",
    "version": 3
   },
   "file_extension": ".py",
   "mimetype": "text/x-python",
   "name": "python",
   "nbconvert_exporter": "python",
   "pygments_lexer": "ipython3",
   "version": "3.9.13"
  },
  "vscode": {
   "interpreter": {
    "hash": "d2c59efba7b009353695b5a6cbe310397ac58aaa3c8acf134630ccd9465f821a"
   }
  }
 },
 "nbformat": 4,
 "nbformat_minor": 2
}
